{
 "cells": [
  {
   "cell_type": "markdown",
   "id": "f43d7f0a",
   "metadata": {},
   "source": [
    "# ejercicios"
   ]
  },
  {
   "cell_type": "markdown",
   "id": "34fd6f79",
   "metadata": {},
   "source": [
    "+ Crear un arreglo de ceros de longitud 12\n",
    "+ Crear un arreglo de longitud 10 con ceros en todas sus posiciones y un 10 en la posición número 5\n",
    "+ Crear un arreglo que tenga los números del 10 al 49\n",
    "+ Crear una arreglo 2d de shape (3, 3) que tenga los números del 0 al 8\n",
    "+ Crear un arreglo de números aleatorios de longitud 100 y obtener su media y varianza\n",
    "+ Calcular la media de un arreglo usando np.sum\n",
    "+ Calcular la varianza de un arreglo usando np.sum y np.mean\n",
    "+ Crear un array de números aleatorios usando np.random.randn."
   ]
  },
  {
   "cell_type": "code",
   "execution_count": 4,
   "id": "70de7ccf",
   "metadata": {},
   "outputs": [],
   "source": [
    "import numpy as np"
   ]
  },
  {
   "cell_type": "code",
   "execution_count": 2,
   "id": "6be25758",
   "metadata": {},
   "outputs": [
    {
     "data": {
      "text/plain": [
       "array([0., 0., 0., 0., 0., 0., 0., 0., 0., 0., 0., 0.])"
      ]
     },
     "execution_count": 2,
     "metadata": {},
     "output_type": "execute_result"
    }
   ],
   "source": [
    "np.zeros(12)"
   ]
  },
  {
   "cell_type": "code",
   "execution_count": 3,
   "id": "b79b9691",
   "metadata": {},
   "outputs": [
    {
     "name": "stdout",
     "output_type": "stream",
     "text": [
      "[ 0.  0.  0.  0.  0. 10.  0.  0.  0.  0.]\n"
     ]
    }
   ],
   "source": [
    "arr= np.zeros(10)\n",
    "arr[5] = 10\n",
    "print(arr)"
   ]
  },
  {
   "cell_type": "code",
   "execution_count": 6,
   "id": "33fc934d",
   "metadata": {},
   "outputs": [
    {
     "name": "stdout",
     "output_type": "stream",
     "text": [
      "[10 11 12 13 14 15 16 17 18 19 20 21 22 23 24 25 26 27 28 29 30 31 32 33\n",
      " 34 35 36 37 38 39 40 41 42 43 44 45 46 47 48 49]\n"
     ]
    }
   ],
   "source": [
    "arr1 = np.arange(10,50,1)\n",
    "print(arr1)"
   ]
  },
  {
   "cell_type": "code",
   "execution_count": 6,
   "id": "f9f0d921",
   "metadata": {},
   "outputs": [
    {
     "name": "stdout",
     "output_type": "stream",
     "text": [
      "[[0, 1, 2], [3, 4, 5], [6, 7, 8]]\n",
      "[[0 1 2]\n",
      " [3 4 5]\n",
      " [6 7 8]]\n"
     ]
    }
   ],
   "source": [
    "lista1 = [0,1,2]\n",
    "lista2 = [3,4,5]\n",
    "lista3 = [6,7,8]\n",
    "\n",
    "lista4 = [lista1,lista2,lista3]\n",
    "print(lista4)\n",
    "\n",
    "listaGrande = lista1 + lista2 + lista3\n",
    "i = np.array(listaGrande)\n",
    "j = i.reshape(3,3)\n",
    "print(j)"
   ]
  },
  {
   "cell_type": "code",
   "execution_count": 8,
   "id": "ff0d46a2",
   "metadata": {},
   "outputs": [
    {
     "name": "stdout",
     "output_type": "stream",
     "text": [
      "2\n"
     ]
    }
   ],
   "source": [
    "arr2 = np.array(j)\n",
    "print(arr2.ndim)"
   ]
  },
  {
   "cell_type": "code",
   "execution_count": 32,
   "id": "52f0b3e6",
   "metadata": {},
   "outputs": [
    {
     "name": "stdout",
     "output_type": "stream",
     "text": [
      "[411 432 118 408 363 197 300 362 296 415 386 471 394 426  44 109  11 225\n",
      " 229 365 457 192  14 290 206  80 334 122 167  48 493 479 470 227 140 219\n",
      " 447 311 399  17 113 407   1  94  81 433  92 445 422 471 486  60 305 413\n",
      " 385 372 204  95 122  21 205 150 276 297 428 308 407  32 278 352 307 285\n",
      " 196 194  81 202 378 264 442 446 322  52 192 407 406  21 464 491 132 385\n",
      " 273 289 110 407 116 286  62 259 248   4]\n",
      "26550\n",
      "265.5\n",
      "21840.81\n"
     ]
    }
   ],
   "source": [
    "numeros_aleatorios = np.random.randint(1,500,100)\n",
    "print(numeros_aleatorios)\n",
    "sumatoria = numeros_aleatorios.sum()\n",
    "print(sumatoria)\n",
    "media = np.mean(numeros_aleatorios)\n",
    "print(media)\n",
    "varianza = np.var(numeros_aleatorios)\n",
    "print(varianza)"
   ]
  },
  {
   "cell_type": "code",
   "execution_count": 29,
   "id": "0da77bad",
   "metadata": {},
   "outputs": [
    {
     "name": "stdout",
     "output_type": "stream",
     "text": [
      "5.5\n"
     ]
    }
   ],
   "source": [
    "arr3= np.arange(1,11,1)\n",
    "media = arr3.sum() / np.size(arr3)\n",
    "print(media)"
   ]
  },
  {
   "cell_type": "code",
   "execution_count": 34,
   "id": "e0d0d677",
   "metadata": {},
   "outputs": [
    {
     "name": "stdout",
     "output_type": "stream",
     "text": [
      "8.25\n"
     ]
    }
   ],
   "source": [
    "arr5 = np.arange(1,11,1)\n",
    "media = np.mean(arr5)\n",
    "cuadrado = (arr5 - media) ** 2\n",
    "sumatoria = np.sum(cuadrado)\n",
    "varianza = sumatoria / len(arr5)\n",
    "print(varianza)"
   ]
  },
  {
   "cell_type": "code",
   "execution_count": 30,
   "id": "3f5438db",
   "metadata": {},
   "outputs": [
    {
     "name": "stdout",
     "output_type": "stream",
     "text": [
      "[9 1 9 7 1]\n"
     ]
    }
   ],
   "source": [
    "arr4_aleatorios = np.random.randint(1,10,5)\n",
    "print(arr4_aleatorios)"
   ]
  }
 ],
 "metadata": {
  "kernelspec": {
   "display_name": "Python 3 (ipykernel)",
   "language": "python",
   "name": "python3"
  },
  "language_info": {
   "codemirror_mode": {
    "name": "ipython",
    "version": 3
   },
   "file_extension": ".py",
   "mimetype": "text/x-python",
   "name": "python",
   "nbconvert_exporter": "python",
   "pygments_lexer": "ipython3",
   "version": "3.11.5"
  }
 },
 "nbformat": 4,
 "nbformat_minor": 5
}
